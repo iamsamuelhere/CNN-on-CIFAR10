{
  "nbformat": 4,
  "nbformat_minor": 0,
  "metadata": {
    "colab": {
      "name": "cifar10.ipynb",
      "provenance": []
    },
    "kernelspec": {
      "name": "python3",
      "display_name": "Python 3"
    }
  },
  "cells": [
    {
      "cell_type": "code",
      "metadata": {
        "id": "yRXbr_3kZ402",
        "colab_type": "code",
        "colab": {}
      },
      "source": [
        "import numpy as np\n",
        "import pandas as pd\n",
        "import matplotlib.pyplot as plt\n",
        "%matplotlib inline"
      ],
      "execution_count": 1,
      "outputs": []
    },
    {
      "cell_type": "code",
      "metadata": {
        "id": "J-8SZBSHaLrK",
        "colab_type": "code",
        "colab": {}
      },
      "source": [
        "from tensorflow.keras.datasets import cifar10"
      ],
      "execution_count": 2,
      "outputs": []
    },
    {
      "cell_type": "code",
      "metadata": {
        "id": "5MOIMV42aR05",
        "colab_type": "code",
        "colab": {
          "base_uri": "https://localhost:8080/",
          "height": 50
        },
        "outputId": "eba4b503-7a18-45af-8c98-ffa74218a936"
      },
      "source": [
        "(x_train,y_train),(x_test,y_test)=cifar10.load_data()"
      ],
      "execution_count": 3,
      "outputs": [
        {
          "output_type": "stream",
          "text": [
            "Downloading data from https://www.cs.toronto.edu/~kriz/cifar-10-python.tar.gz\n",
            "170500096/170498071 [==============================] - 11s 0us/step\n"
          ],
          "name": "stdout"
        }
      ]
    },
    {
      "cell_type": "code",
      "metadata": {
        "id": "9r8Qb7cJad2n",
        "colab_type": "code",
        "colab": {
          "base_uri": "https://localhost:8080/",
          "height": 50
        },
        "outputId": "5bfdd1d2-fe8d-4ed6-e062-82df18bdb814"
      },
      "source": [
        "print(x_train.shape)\n",
        "print(x_test.shape)"
      ],
      "execution_count": 4,
      "outputs": [
        {
          "output_type": "stream",
          "text": [
            "(50000, 32, 32, 3)\n",
            "(10000, 32, 32, 3)\n"
          ],
          "name": "stdout"
        }
      ]
    },
    {
      "cell_type": "code",
      "metadata": {
        "id": "ZKC973moamre",
        "colab_type": "code",
        "colab": {
          "base_uri": "https://localhost:8080/",
          "height": 282
        },
        "outputId": "9c132433-90d6-4274-d628-1ccf9c8dc0d2"
      },
      "source": [
        "plt.imshow(x_train[5])"
      ],
      "execution_count": 13,
      "outputs": [
        {
          "output_type": "execute_result",
          "data": {
            "text/plain": [
              "<matplotlib.image.AxesImage at 0x7f9aeffc50b8>"
            ]
          },
          "metadata": {
            "tags": []
          },
          "execution_count": 13
        },
        {
          "output_type": "display_data",
          "data": {
            "image/png": "[encoded data removed]",
            "text/plain": [
              "<Figure size 432x288 with 1 Axes>"
            ]
          },
          "metadata": {
            "tags": [],
            "needs_background": "light"
          }
        }
      ]
    },
    {
      "cell_type": "code",
      "metadata": {
        "id": "Xj3XjFYbarFV",
        "colab_type": "code",
        "colab": {
          "base_uri": "https://localhost:8080/",
          "height": 33
        },
        "outputId": "6cbe4bb0-6bbc-4fcf-adfc-36100aae49ea"
      },
      "source": [
        "y_train[5]"
      ],
      "execution_count": 14,
      "outputs": [
        {
          "output_type": "execute_result",
          "data": {
            "text/plain": [
              "array([1], dtype=uint8)"
            ]
          },
          "metadata": {
            "tags": []
          },
          "execution_count": 14
        }
      ]
    },
    {
      "cell_type": "markdown",
      "metadata": {
        "id": "gORqJyCSbZO0",
        "colab_type": "text"
      },
      "source": [
        "Data Preprocessing\n"
      ]
    },
    {
      "cell_type": "code",
      "metadata": {
        "id": "j82JcTOMbRJo",
        "colab_type": "code",
        "colab": {}
      },
      "source": [
        "x_train=x_train/255\n",
        "x_test=x_test/255"
      ],
      "execution_count": 15,
      "outputs": []
    },
    {
      "cell_type": "code",
      "metadata": {
        "id": "qMWBk_4gbmUr",
        "colab_type": "code",
        "colab": {
          "base_uri": "https://localhost:8080/",
          "height": 133
        },
        "outputId": "1d91c0e6-31cd-4def-8ee5-6145563b1452"
      },
      "source": [
        "y_train"
      ],
      "execution_count": 17,
      "outputs": [
        {
          "output_type": "execute_result",
          "data": {
            "text/plain": [
              "array([[6],\n",
              "       [9],\n",
              "       [9],\n",
              "       ...,\n",
              "       [9],\n",
              "       [1],\n",
              "       [1]], dtype=uint8)"
            ]
          },
          "metadata": {
            "tags": []
          },
          "execution_count": 17
        }
      ]
    },
    {
      "cell_type": "code",
      "metadata": {
        "id": "g6mKIMiMbn4A",
        "colab_type": "code",
        "colab": {}
      },
      "source": [
        "from tensorflow.keras.utils import to_categorical\n"
      ],
      "execution_count": 18,
      "outputs": []
    },
    {
      "cell_type": "code",
      "metadata": {
        "id": "Z4YEbWiEb69W",
        "colab_type": "code",
        "colab": {}
      },
      "source": [
        "y_train_cat=to_categorical(y_train)\n",
        "y_test_cat=to_categorical(y_test)"
      ],
      "execution_count": 19,
      "outputs": []
    },
    {
      "cell_type": "code",
      "metadata": {
        "id": "GfxfM5qVcHfa",
        "colab_type": "code",
        "colab": {
          "base_uri": "https://localhost:8080/",
          "height": 33
        },
        "outputId": "643a6181-f33c-488d-d35c-67fe34bf453c"
      },
      "source": [
        "y_train_cat[5]"
      ],
      "execution_count": 24,
      "outputs": [
        {
          "output_type": "execute_result",
          "data": {
            "text/plain": [
              "array([0., 1., 0., 0., 0., 0., 0., 0., 0., 0.], dtype=float32)"
            ]
          },
          "metadata": {
            "tags": []
          },
          "execution_count": 24
        }
      ]
    },
    {
      "cell_type": "markdown",
      "metadata": {
        "id": "iQWREmDbcrnP",
        "colab_type": "text"
      },
      "source": [
        "Building model"
      ]
    },
    {
      "cell_type": "code",
      "metadata": {
        "id": "qSJvXZwvcKWC",
        "colab_type": "code",
        "colab": {}
      },
      "source": [
        "from tensorflow.keras.models import Sequential\n",
        "from tensorflow.keras.layers import Dense,MaxPool2D,Conv2D,Flatten"
      ],
      "execution_count": 26,
      "outputs": []
    },
    {
      "cell_type": "code",
      "metadata": {
        "id": "qiwg0cMdc-EO",
        "colab_type": "code",
        "colab": {}
      },
      "source": [
        "model=Sequential()\n",
        "\n",
        "model.add(Conv2D(filters=32,kernel_size=(4,4),activation='relu'))\n",
        "model.add(MaxPool2D(pool_size=(2, 2)))\n",
        "model.add(Conv2D(filters=32, kernel_size=(4,4), activation='relu',))\n",
        "model.add(MaxPool2D(pool_size=(2, 2)))\n",
        "model.add(Flatten())\n",
        "model.add(Dense(256, activation='relu'))\n",
        "\n",
        "\n",
        "model.add(Dense(10, activation='softmax'))\n",
        "\n",
        "model.compile(loss='categorical_crossentropy',\n",
        "              optimizer='adam',\n",
        "              metrics=['accuracy'])\n",
        "\n"
      ],
      "execution_count": 27,
      "outputs": []
    },
    {
      "cell_type": "code",
      "metadata": {
        "id": "3XnKin93eAF7",
        "colab_type": "code",
        "colab": {}
      },
      "source": [
        "from tensorflow.keras.callbacks import EarlyStopping"
      ],
      "execution_count": 28,
      "outputs": []
    },
    {
      "cell_type": "code",
      "metadata": {
        "id": "GtdwG9xheGOm",
        "colab_type": "code",
        "colab": {}
      },
      "source": [
        "early_stop = EarlyStopping(monitor='val_loss')"
      ],
      "execution_count": 29,
      "outputs": []
    },
    {
      "cell_type": "code",
      "metadata": {
        "id": "ZLgWmxOQeJjc",
        "colab_type": "code",
        "colab": {
          "base_uri": "https://localhost:8080/",
          "height": 266
        },
        "outputId": "652ffa2f-0877-41f1-c340-71ca02bc8e3b"
      },
      "source": [
        "model.fit(x_train,y_train_cat,epochs=150,validation_data=(x_test,y_test_cat),callbacks=[early_stop])"
      ],
      "execution_count": 33,
      "outputs": [
        {
          "output_type": "stream",
          "text": [
            "Epoch 1/150\n",
            "1563/1563 [==============================] - 60s 39ms/step - loss: 1.5009 - accuracy: 0.4574 - val_loss: 1.2410 - val_accuracy: 0.5604\n",
            "Epoch 2/150\n",
            "1563/1563 [==============================] - 60s 38ms/step - loss: 1.1754 - accuracy: 0.5835 - val_loss: 1.1155 - val_accuracy: 0.6004\n",
            "Epoch 3/150\n",
            "1563/1563 [==============================] - 60s 38ms/step - loss: 1.0236 - accuracy: 0.6394 - val_loss: 1.0345 - val_accuracy: 0.6343\n",
            "Epoch 4/150\n",
            "1563/1563 [==============================] - 60s 38ms/step - loss: 0.9163 - accuracy: 0.6798 - val_loss: 1.0201 - val_accuracy: 0.6498\n",
            "Epoch 5/150\n",
            "1563/1563 [==============================] - 60s 39ms/step - loss: 0.8277 - accuracy: 0.7102 - val_loss: 1.0117 - val_accuracy: 0.6536\n",
            "Epoch 6/150\n",
            "1563/1563 [==============================] - 61s 39ms/step - loss: 0.7464 - accuracy: 0.7383 - val_loss: 1.0113 - val_accuracy: 0.6570\n",
            "Epoch 7/150\n",
            "1563/1563 [==============================] - 61s 39ms/step - loss: 0.6767 - accuracy: 0.7636 - val_loss: 1.0176 - val_accuracy: 0.6722\n"
          ],
          "name": "stdout"
        },
        {
          "output_type": "execute_result",
          "data": {
            "text/plain": [
              "<tensorflow.python.keras.callbacks.History at 0x7f9ae28afd68>"
            ]
          },
          "metadata": {
            "tags": []
          },
          "execution_count": 33
        }
      ]
    },
    {
      "cell_type": "code",
      "metadata": {
        "id": "ntsw-nqse-A1",
        "colab_type": "code",
        "colab": {
          "base_uri": "https://localhost:8080/",
          "height": 483
        },
        "outputId": "c0f1e2c9-d728-40d8-fec6-fb6811e09d08"
      },
      "source": [
        "model.history.history"
      ],
      "execution_count": 34,
      "outputs": [
        {
          "output_type": "execute_result",
          "data": {
            "text/plain": [
              "{'accuracy': [0.45743998885154724,\n",
              "  0.5835000276565552,\n",
              "  0.6394199728965759,\n",
              "  0.6797999739646912,\n",
              "  0.7102000117301941,\n",
              "  0.738319993019104,\n",
              "  0.7635599970817566],\n",
              " 'loss': [1.5008996725082397,\n",
              "  1.1753711700439453,\n",
              "  1.023583173751831,\n",
              "  0.9162610173225403,\n",
              "  0.8276751637458801,\n",
              "  0.7463809251785278,\n",
              "  0.6767296195030212],\n",
              " 'val_accuracy': [0.5604000091552734,\n",
              "  0.6003999710083008,\n",
              "  0.6342999935150146,\n",
              "  0.6498000025749207,\n",
              "  0.6535999774932861,\n",
              "  0.6570000052452087,\n",
              "  0.6722000241279602],\n",
              " 'val_loss': [1.2410380840301514,\n",
              "  1.115525722503662,\n",
              "  1.0344730615615845,\n",
              "  1.020096778869629,\n",
              "  1.0117323398590088,\n",
              "  1.0113131999969482,\n",
              "  1.0176270008087158]}"
            ]
          },
          "metadata": {
            "tags": []
          },
          "execution_count": 34
        }
      ]
    },
    {
      "cell_type": "code",
      "metadata": {
        "id": "XqPWIrbFg5jw",
        "colab_type": "code",
        "colab": {}
      },
      "source": [
        "Loss=pd.DataFrame(model.history.history)"
      ],
      "execution_count": 35,
      "outputs": []
    },
    {
      "cell_type": "code",
      "metadata": {
        "id": "94GEyjQ5hEC4",
        "colab_type": "code",
        "colab": {
          "base_uri": "https://localhost:8080/",
          "height": 257
        },
        "outputId": "804e223e-7aff-4999-f37d-8804aba7ed2b"
      },
      "source": [
        "Loss\n"
      ],
      "execution_count": 36,
      "outputs": [
        {
          "output_type": "execute_result",
          "data": {
            "text/html": [
              "<div>\n",
              "<style scoped>\n",
              "    .dataframe tbody tr th:only-of-type {\n",
              "        vertical-align: middle;\n",
              "    }\n",
              "\n",
              "    .dataframe tbody tr th {\n",
              "        vertical-align: top;\n",
              "    }\n",
              "\n",
              "    .dataframe thead th {\n",
              "        text-align: right;\n",
              "    }\n",
              "</style>\n",
              "<table border=\"1\" class=\"dataframe\">\n",
              "  <thead>\n",
              "    <tr style=\"text-align: right;\">\n",
              "      <th></th>\n",
              "      <th>loss</th>\n",
              "      <th>accuracy</th>\n",
              "      <th>val_loss</th>\n",
              "      <th>val_accuracy</th>\n",
              "    </tr>\n",
              "  </thead>\n",
              "  <tbody>\n",
              "    <tr>\n",
              "      <th>0</th>\n",
              "      <td>1.500900</td>\n",
              "      <td>0.45744</td>\n",
              "      <td>1.241038</td>\n",
              "      <td>0.5604</td>\n",
              "    </tr>\n",
              "    <tr>\n",
              "      <th>1</th>\n",
              "      <td>1.175371</td>\n",
              "      <td>0.58350</td>\n",
              "      <td>1.115526</td>\n",
              "      <td>0.6004</td>\n",
              "    </tr>\n",
              "    <tr>\n",
              "      <th>2</th>\n",
              "      <td>1.023583</td>\n",
              "      <td>0.63942</td>\n",
              "      <td>1.034473</td>\n",
              "      <td>0.6343</td>\n",
              "    </tr>\n",
              "    <tr>\n",
              "      <th>3</th>\n",
              "      <td>0.916261</td>\n",
              "      <td>0.67980</td>\n",
              "      <td>1.020097</td>\n",
              "      <td>0.6498</td>\n",
              "    </tr>\n",
              "    <tr>\n",
              "      <th>4</th>\n",
              "      <td>0.827675</td>\n",
              "      <td>0.71020</td>\n",
              "      <td>1.011732</td>\n",
              "      <td>0.6536</td>\n",
              "    </tr>\n",
              "    <tr>\n",
              "      <th>5</th>\n",
              "      <td>0.746381</td>\n",
              "      <td>0.73832</td>\n",
              "      <td>1.011313</td>\n",
              "      <td>0.6570</td>\n",
              "    </tr>\n",
              "    <tr>\n",
              "      <th>6</th>\n",
              "      <td>0.676730</td>\n",
              "      <td>0.76356</td>\n",
              "      <td>1.017627</td>\n",
              "      <td>0.6722</td>\n",
              "    </tr>\n",
              "  </tbody>\n",
              "</table>\n",
              "</div>"
            ],
            "text/plain": [
              "       loss  accuracy  val_loss  val_accuracy\n",
              "0  1.500900   0.45744  1.241038        0.5604\n",
              "1  1.175371   0.58350  1.115526        0.6004\n",
              "2  1.023583   0.63942  1.034473        0.6343\n",
              "3  0.916261   0.67980  1.020097        0.6498\n",
              "4  0.827675   0.71020  1.011732        0.6536\n",
              "5  0.746381   0.73832  1.011313        0.6570\n",
              "6  0.676730   0.76356  1.017627        0.6722"
            ]
          },
          "metadata": {
            "tags": []
          },
          "execution_count": 36
        }
      ]
    },
    {
      "cell_type": "code",
      "metadata": {
        "id": "QBRDWuBmhFfs",
        "colab_type": "code",
        "colab": {
          "base_uri": "https://localhost:8080/",
          "height": 297
        },
        "outputId": "0a2c22a8-2e5a-4c82-d497-96daa5c8b563"
      },
      "source": [
        "Loss[['loss','val_loss']].plot()\n",
        "plt.title('Loss')"
      ],
      "execution_count": 41,
      "outputs": [
        {
          "output_type": "execute_result",
          "data": {
            "text/plain": [
              "Text(0.5, 1.0, 'Loss')"
            ]
          },
          "metadata": {
            "tags": []
          },
          "execution_count": 41
        },
        {
          "output_type": "display_data",
          "data": {
            "image/png": "[encoded data removed]",
            "text/plain": [
              "<Figure size 432x288 with 1 Axes>"
            ]
          },
          "metadata": {
            "tags": [],
            "needs_background": "light"
          }
        }
      ]
    },
    {
      "cell_type": "code",
      "metadata": {
        "id": "TF5EPZJmhOlI",
        "colab_type": "code",
        "colab": {
          "base_uri": "https://localhost:8080/",
          "height": 297
        },
        "outputId": "c04c3f01-c4c9-42b6-a53d-1b459336c6f3"
      },
      "source": [
        "Loss['accuracy'].plot()\n",
        "plt.title('accuracy')"
      ],
      "execution_count": 42,
      "outputs": [
        {
          "output_type": "execute_result",
          "data": {
            "text/plain": [
              "Text(0.5, 1.0, 'accuracy')"
            ]
          },
          "metadata": {
            "tags": []
          },
          "execution_count": 42
        },
        {
          "output_type": "display_data",
          "data": {
            "image/png": "[encoded data removed]",
            "text/plain": [
              "<Figure size 432x288 with 1 Axes>"
            ]
          },
          "metadata": {
            "tags": [],
            "needs_background": "light"
          }
        }
      ]
    },
    {
      "cell_type": "code",
      "metadata": {
        "id": "H4TpH8Lwhcjt",
        "colab_type": "code",
        "colab": {
          "base_uri": "https://localhost:8080/",
          "height": 33
        },
        "outputId": "a3d97cf6-9626-4857-8769-9f76e8daff34"
      },
      "source": [
        "x_test.shape\n"
      ],
      "execution_count": 45,
      "outputs": [
        {
          "output_type": "execute_result",
          "data": {
            "text/plain": [
              "(10000, 32, 32, 3)"
            ]
          },
          "metadata": {
            "tags": []
          },
          "execution_count": 45
        }
      ]
    },
    {
      "cell_type": "code",
      "metadata": {
        "id": "g9NmnvkOh4Ks",
        "colab_type": "code",
        "colab": {
          "base_uri": "https://localhost:8080/",
          "height": 33
        },
        "outputId": "dcaf8ace-689d-450c-aefe-4a0cfee15cc8"
      },
      "source": [
        "test_img=x_test[7]\n",
        "test_img.shape"
      ],
      "execution_count": 50,
      "outputs": [
        {
          "output_type": "execute_result",
          "data": {
            "text/plain": [
              "(32, 32, 3)"
            ]
          },
          "metadata": {
            "tags": []
          },
          "execution_count": 50
        }
      ]
    },
    {
      "cell_type": "code",
      "metadata": {
        "id": "m2kJqLpGjGjn",
        "colab_type": "code",
        "colab": {}
      },
      "source": [
        "test_img=test_img.reshape(1,32,32,3)"
      ],
      "execution_count": 51,
      "outputs": []
    },
    {
      "cell_type": "code",
      "metadata": {
        "id": "O1LZmuncjcMm",
        "colab_type": "code",
        "colab": {
          "base_uri": "https://localhost:8080/",
          "height": 33
        },
        "outputId": "53d374c0-f3b3-49aa-a668-065eed7b31e7"
      },
      "source": [
        "test_img.shape"
      ],
      "execution_count": 55,
      "outputs": [
        {
          "output_type": "execute_result",
          "data": {
            "text/plain": [
              "(1, 32, 32, 3)"
            ]
          },
          "metadata": {
            "tags": []
          },
          "execution_count": 55
        }
      ]
    },
    {
      "cell_type": "code",
      "metadata": {
        "id": "6OJnsMbdjdxy",
        "colab_type": "code",
        "colab": {
          "base_uri": "https://localhost:8080/",
          "height": 33
        },
        "outputId": "ec6e98f4-bc81-4763-8536-102ef330fb7f"
      },
      "source": [
        "model.predict_classes(test_img)\n",
        "#predicts its class 6 which is frog"
      ],
      "execution_count": 56,
      "outputs": [
        {
          "output_type": "execute_result",
          "data": {
            "text/plain": [
              "array([6])"
            ]
          },
          "metadata": {
            "tags": []
          },
          "execution_count": 56
        }
      ]
    },
    {
      "cell_type": "code",
      "metadata": {
        "id": "_JalOa8xjpgu",
        "colab_type": "code",
        "colab": {
          "base_uri": "https://localhost:8080/",
          "height": 33
        },
        "outputId": "266f0aec-8f8d-48ee-cd7a-19b5b6ce814f"
      },
      "source": [
        "y_test[7]\n",
        "#Even the actual label is 6 then the predcition is correct "
      ],
      "execution_count": 57,
      "outputs": [
        {
          "output_type": "execute_result",
          "data": {
            "text/plain": [
              "array([6], dtype=uint8)"
            ]
          },
          "metadata": {
            "tags": []
          },
          "execution_count": 57
        }
      ]
    },
    {
      "cell_type": "code",
      "metadata": {
        "id": "DGv_-FqqjyR_",
        "colab_type": "code",
        "colab": {
          "base_uri": "https://localhost:8080/",
          "height": 282
        },
        "outputId": "50ef2c80-e579-46f3-8dad-4d5dbe7c97de"
      },
      "source": [
        "# to see the test image \n",
        "plt.imshow(test_img.reshape(32,32,3))\n",
        "#Yes its frog"
      ],
      "execution_count": 60,
      "outputs": [
        {
          "output_type": "execute_result",
          "data": {
            "text/plain": [
              "<matplotlib.image.AxesImage at 0x7f9aded5d3c8>"
            ]
          },
          "metadata": {
            "tags": []
          },
          "execution_count": 60
        },
        {
          "output_type": "display_data",
          "data": {
            "image/png": "[encoded data removed]",
            "text/plain": [
              "<Figure size 432x288 with 1 Axes>"
            ]
          },
          "metadata": {
            "tags": [],
            "needs_background": "light"
          }
        }
      ]
    },
    {
      "cell_type": "code",
      "metadata": {
        "id": "y8GJWpBQj5uG",
        "colab_type": "code",
        "colab": {}
      },
      "source": [
        "from sklearn.metrics import classification_report,confusion_matrix"
      ],
      "execution_count": 61,
      "outputs": []
    },
    {
      "cell_type": "code",
      "metadata": {
        "id": "Bctjcquakdpt",
        "colab_type": "code",
        "colab": {}
      },
      "source": [
        "predictions = model.predict_classes(x_test)"
      ],
      "execution_count": 62,
      "outputs": []
    },
    {
      "cell_type": "code",
      "metadata": {
        "id": "RMOZpjwZkqZP",
        "colab_type": "code",
        "colab": {
          "base_uri": "https://localhost:8080/",
          "height": 300
        },
        "outputId": "4a9883f2-f866-4747-fa4c-04d70624c662"
      },
      "source": [
        "print(classification_report(y_test,predictions))"
      ],
      "execution_count": 63,
      "outputs": [
        {
          "output_type": "stream",
          "text": [
            "              precision    recall  f1-score   support\n",
            "\n",
            "           0       0.64      0.78      0.70      1000\n",
            "           1       0.76      0.81      0.79      1000\n",
            "           2       0.60      0.53      0.56      1000\n",
            "           3       0.51      0.44      0.47      1000\n",
            "           4       0.62      0.63      0.62      1000\n",
            "           5       0.57      0.55      0.56      1000\n",
            "           6       0.67      0.82      0.74      1000\n",
            "           7       0.74      0.72      0.73      1000\n",
            "           8       0.77      0.78      0.77      1000\n",
            "           9       0.84      0.66      0.74      1000\n",
            "\n",
            "    accuracy                           0.67     10000\n",
            "   macro avg       0.67      0.67      0.67     10000\n",
            "weighted avg       0.67      0.67      0.67     10000\n",
            "\n"
          ],
          "name": "stdout"
        }
      ]
    },
    {
      "cell_type": "code",
      "metadata": {
        "id": "FemcZETNks4N",
        "colab_type": "code",
        "colab": {}
      },
      "source": [
        ""
      ],
      "execution_count": null,
      "outputs": []
    }
  ]
}